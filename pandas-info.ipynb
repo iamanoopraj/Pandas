{
 "cells": [
  {
   "cell_type": "code",
   "execution_count": 77,
   "id": "b9744ba1-9b76-44f8-9867-39f5d895fc0b",
   "metadata": {},
   "outputs": [],
   "source": [
    "import pandas as pd\n",
    "import numpy as np"
   ]
  },
  {
   "cell_type": "code",
   "execution_count": 78,
   "id": "d49ca09a-b739-4ea7-ab52-54c9d936e153",
   "metadata": {},
   "outputs": [],
   "source": [
    "df = pd.read_csv('pandas-intro.csv')"
   ]
  },
  {
   "cell_type": "code",
   "execution_count": 79,
   "id": "47ab334b-c6de-4430-b9d3-2e1c349a0c47",
   "metadata": {},
   "outputs": [],
   "source": [
    "df_org = df.copy()"
   ]
  },
  {
   "cell_type": "code",
   "execution_count": 80,
   "id": "f8bd8a81-fa5b-4a27-b7f2-22661eb2a014",
   "metadata": {},
   "outputs": [
    {
     "data": {
      "text/plain": [
       "<bound method DataFrame.drop of      Unnamed: 0   id first_name last_name         dob  weight  height  course  \\\n",
       "0             0  100    Samarth      Kari  1997-05-28      72     174     NaN   \n",
       "1             1  101      Sumer       NaN  2000-06-03      62     167      DA   \n",
       "2             2  102       Anay       NaN  2004-11-24      79     175     NaN   \n",
       "3             3  103      Shlok       NaN  1998-12-07      62     164     NaN   \n",
       "4             4  104    Anahita       NaN  1999-01-03      74     170      DA   \n",
       "..          ...  ...        ...       ...         ...     ...     ...     ...   \n",
       "96           96  196    Aaryahi     Baral  2001-07-05      70     165      DA   \n",
       "97           97  197      Jivin       NaN  2005-10-27      70     159     NaN   \n",
       "98           98  198      Rasha      Kata  1998-08-18      65     160      ML   \n",
       "99           99  199      Anika       NaN  1999-12-26      75     171      DS   \n",
       "100         100  200     Miraan     Varty  2002-09-04      74     163  Python   \n",
       "\n",
       "             state  marks  \n",
       "0              NaN     69  \n",
       "1    Uttar Pradesh     82  \n",
       "2        Rajasthan     84  \n",
       "3        Rajasthan     63  \n",
       "4    Uttar Pradesh     68  \n",
       "..             ...    ...  \n",
       "96       Meghalaya     92  \n",
       "97       Rajasthan     60  \n",
       "98             Goa     63  \n",
       "99       Rajasthan     85  \n",
       "100  Uttar Pradesh     94  \n",
       "\n",
       "[101 rows x 10 columns]>"
      ]
     },
     "execution_count": 80,
     "metadata": {},
     "output_type": "execute_result"
    }
   ],
   "source": [
    "df.drop"
   ]
  },
  {
   "cell_type": "code",
   "execution_count": 81,
   "id": "76869c4d-4213-41e3-93a2-47b0fb758a2a",
   "metadata": {},
   "outputs": [
    {
     "name": "stdout",
     "output_type": "stream",
     "text": [
      "<class 'pandas.core.frame.DataFrame'>\n",
      "RangeIndex: 101 entries, 0 to 100\n",
      "Data columns (total 10 columns):\n",
      " #   Column      Non-Null Count  Dtype \n",
      "---  ------      --------------  ----- \n",
      " 0   Unnamed: 0  101 non-null    int64 \n",
      " 1   id          101 non-null    int64 \n",
      " 2   first_name  101 non-null    object\n",
      " 3   last_name   47 non-null     object\n",
      " 4   dob         101 non-null    object\n",
      " 5   weight      101 non-null    int64 \n",
      " 6   height      101 non-null    int64 \n",
      " 7   course      75 non-null     object\n",
      " 8   state       80 non-null     object\n",
      " 9   marks       101 non-null    int64 \n",
      "dtypes: int64(5), object(5)\n",
      "memory usage: 8.0+ KB\n"
     ]
    }
   ],
   "source": [
    "df.info()"
   ]
  },
  {
   "cell_type": "code",
   "execution_count": 82,
   "id": "9acdc27a-4dd4-4dcc-b1dc-4175330c1e4d",
   "metadata": {},
   "outputs": [
    {
     "data": {
      "text/html": [
       "<div>\n",
       "<style scoped>\n",
       "    .dataframe tbody tr th:only-of-type {\n",
       "        vertical-align: middle;\n",
       "    }\n",
       "\n",
       "    .dataframe tbody tr th {\n",
       "        vertical-align: top;\n",
       "    }\n",
       "\n",
       "    .dataframe thead th {\n",
       "        text-align: right;\n",
       "    }\n",
       "</style>\n",
       "<table border=\"1\" class=\"dataframe\">\n",
       "  <thead>\n",
       "    <tr style=\"text-align: right;\">\n",
       "      <th></th>\n",
       "      <th>Unnamed: 0</th>\n",
       "      <th>id</th>\n",
       "      <th>first_name</th>\n",
       "      <th>last_name</th>\n",
       "      <th>dob</th>\n",
       "      <th>weight</th>\n",
       "      <th>height</th>\n",
       "      <th>course</th>\n",
       "      <th>state</th>\n",
       "      <th>marks</th>\n",
       "    </tr>\n",
       "  </thead>\n",
       "  <tbody>\n",
       "    <tr>\n",
       "      <th>count</th>\n",
       "      <td>101.000000</td>\n",
       "      <td>101.000000</td>\n",
       "      <td>101</td>\n",
       "      <td>47</td>\n",
       "      <td>101</td>\n",
       "      <td>101.000000</td>\n",
       "      <td>101.000000</td>\n",
       "      <td>75</td>\n",
       "      <td>80</td>\n",
       "      <td>101.000000</td>\n",
       "    </tr>\n",
       "    <tr>\n",
       "      <th>unique</th>\n",
       "      <td>NaN</td>\n",
       "      <td>NaN</td>\n",
       "      <td>78</td>\n",
       "      <td>47</td>\n",
       "      <td>99</td>\n",
       "      <td>NaN</td>\n",
       "      <td>NaN</td>\n",
       "      <td>4</td>\n",
       "      <td>6</td>\n",
       "      <td>NaN</td>\n",
       "    </tr>\n",
       "    <tr>\n",
       "      <th>top</th>\n",
       "      <td>NaN</td>\n",
       "      <td>NaN</td>\n",
       "      <td>Kartik</td>\n",
       "      <td>Kari</td>\n",
       "      <td>1997-03-14</td>\n",
       "      <td>NaN</td>\n",
       "      <td>NaN</td>\n",
       "      <td>DA</td>\n",
       "      <td>Rajasthan</td>\n",
       "      <td>NaN</td>\n",
       "    </tr>\n",
       "    <tr>\n",
       "      <th>freq</th>\n",
       "      <td>NaN</td>\n",
       "      <td>NaN</td>\n",
       "      <td>4</td>\n",
       "      <td>1</td>\n",
       "      <td>2</td>\n",
       "      <td>NaN</td>\n",
       "      <td>NaN</td>\n",
       "      <td>22</td>\n",
       "      <td>20</td>\n",
       "      <td>NaN</td>\n",
       "    </tr>\n",
       "    <tr>\n",
       "      <th>mean</th>\n",
       "      <td>50.000000</td>\n",
       "      <td>150.000000</td>\n",
       "      <td>NaN</td>\n",
       "      <td>NaN</td>\n",
       "      <td>NaN</td>\n",
       "      <td>69.504950</td>\n",
       "      <td>161.683168</td>\n",
       "      <td>NaN</td>\n",
       "      <td>NaN</td>\n",
       "      <td>80.366337</td>\n",
       "    </tr>\n",
       "    <tr>\n",
       "      <th>std</th>\n",
       "      <td>29.300171</td>\n",
       "      <td>29.300171</td>\n",
       "      <td>NaN</td>\n",
       "      <td>NaN</td>\n",
       "      <td>NaN</td>\n",
       "      <td>5.859392</td>\n",
       "      <td>7.342930</td>\n",
       "      <td>NaN</td>\n",
       "      <td>NaN</td>\n",
       "      <td>11.358453</td>\n",
       "    </tr>\n",
       "    <tr>\n",
       "      <th>min</th>\n",
       "      <td>0.000000</td>\n",
       "      <td>100.000000</td>\n",
       "      <td>NaN</td>\n",
       "      <td>NaN</td>\n",
       "      <td>NaN</td>\n",
       "      <td>60.000000</td>\n",
       "      <td>150.000000</td>\n",
       "      <td>NaN</td>\n",
       "      <td>NaN</td>\n",
       "      <td>60.000000</td>\n",
       "    </tr>\n",
       "    <tr>\n",
       "      <th>25%</th>\n",
       "      <td>25.000000</td>\n",
       "      <td>125.000000</td>\n",
       "      <td>NaN</td>\n",
       "      <td>NaN</td>\n",
       "      <td>NaN</td>\n",
       "      <td>65.000000</td>\n",
       "      <td>155.000000</td>\n",
       "      <td>NaN</td>\n",
       "      <td>NaN</td>\n",
       "      <td>70.000000</td>\n",
       "    </tr>\n",
       "    <tr>\n",
       "      <th>50%</th>\n",
       "      <td>50.000000</td>\n",
       "      <td>150.000000</td>\n",
       "      <td>NaN</td>\n",
       "      <td>NaN</td>\n",
       "      <td>NaN</td>\n",
       "      <td>70.000000</td>\n",
       "      <td>162.000000</td>\n",
       "      <td>NaN</td>\n",
       "      <td>NaN</td>\n",
       "      <td>82.000000</td>\n",
       "    </tr>\n",
       "    <tr>\n",
       "      <th>75%</th>\n",
       "      <td>75.000000</td>\n",
       "      <td>175.000000</td>\n",
       "      <td>NaN</td>\n",
       "      <td>NaN</td>\n",
       "      <td>NaN</td>\n",
       "      <td>74.000000</td>\n",
       "      <td>167.000000</td>\n",
       "      <td>NaN</td>\n",
       "      <td>NaN</td>\n",
       "      <td>91.000000</td>\n",
       "    </tr>\n",
       "    <tr>\n",
       "      <th>max</th>\n",
       "      <td>100.000000</td>\n",
       "      <td>200.000000</td>\n",
       "      <td>NaN</td>\n",
       "      <td>NaN</td>\n",
       "      <td>NaN</td>\n",
       "      <td>80.000000</td>\n",
       "      <td>175.000000</td>\n",
       "      <td>NaN</td>\n",
       "      <td>NaN</td>\n",
       "      <td>98.000000</td>\n",
       "    </tr>\n",
       "  </tbody>\n",
       "</table>\n",
       "</div>"
      ],
      "text/plain": [
       "        Unnamed: 0          id first_name last_name         dob      weight  \\\n",
       "count   101.000000  101.000000        101        47         101  101.000000   \n",
       "unique         NaN         NaN         78        47          99         NaN   \n",
       "top            NaN         NaN     Kartik      Kari  1997-03-14         NaN   \n",
       "freq           NaN         NaN          4         1           2         NaN   \n",
       "mean     50.000000  150.000000        NaN       NaN         NaN   69.504950   \n",
       "std      29.300171   29.300171        NaN       NaN         NaN    5.859392   \n",
       "min       0.000000  100.000000        NaN       NaN         NaN   60.000000   \n",
       "25%      25.000000  125.000000        NaN       NaN         NaN   65.000000   \n",
       "50%      50.000000  150.000000        NaN       NaN         NaN   70.000000   \n",
       "75%      75.000000  175.000000        NaN       NaN         NaN   74.000000   \n",
       "max     100.000000  200.000000        NaN       NaN         NaN   80.000000   \n",
       "\n",
       "            height course      state       marks  \n",
       "count   101.000000     75         80  101.000000  \n",
       "unique         NaN      4          6         NaN  \n",
       "top            NaN     DA  Rajasthan         NaN  \n",
       "freq           NaN     22         20         NaN  \n",
       "mean    161.683168    NaN        NaN   80.366337  \n",
       "std       7.342930    NaN        NaN   11.358453  \n",
       "min     150.000000    NaN        NaN   60.000000  \n",
       "25%     155.000000    NaN        NaN   70.000000  \n",
       "50%     162.000000    NaN        NaN   82.000000  \n",
       "75%     167.000000    NaN        NaN   91.000000  \n",
       "max     175.000000    NaN        NaN   98.000000  "
      ]
     },
     "execution_count": 82,
     "metadata": {},
     "output_type": "execute_result"
    }
   ],
   "source": [
    "df.describe(include='all')\n"
   ]
  },
  {
   "cell_type": "code",
   "execution_count": 83,
   "id": "62aad88e-caf1-467f-953e-8b2fc663c857",
   "metadata": {},
   "outputs": [
    {
     "data": {
      "text/html": [
       "<div>\n",
       "<style scoped>\n",
       "    .dataframe tbody tr th:only-of-type {\n",
       "        vertical-align: middle;\n",
       "    }\n",
       "\n",
       "    .dataframe tbody tr th {\n",
       "        vertical-align: top;\n",
       "    }\n",
       "\n",
       "    .dataframe thead th {\n",
       "        text-align: right;\n",
       "    }\n",
       "</style>\n",
       "<table border=\"1\" class=\"dataframe\">\n",
       "  <thead>\n",
       "    <tr style=\"text-align: right;\">\n",
       "      <th></th>\n",
       "      <th>Unnamed: 0</th>\n",
       "      <th>height</th>\n",
       "      <th>marks</th>\n",
       "    </tr>\n",
       "  </thead>\n",
       "  <tbody>\n",
       "    <tr>\n",
       "      <th>count</th>\n",
       "      <td>101.000000</td>\n",
       "      <td>101.000000</td>\n",
       "      <td>101.000000</td>\n",
       "    </tr>\n",
       "    <tr>\n",
       "      <th>mean</th>\n",
       "      <td>50.000000</td>\n",
       "      <td>161.683168</td>\n",
       "      <td>80.366337</td>\n",
       "    </tr>\n",
       "    <tr>\n",
       "      <th>std</th>\n",
       "      <td>29.300171</td>\n",
       "      <td>7.342930</td>\n",
       "      <td>11.358453</td>\n",
       "    </tr>\n",
       "    <tr>\n",
       "      <th>min</th>\n",
       "      <td>0.000000</td>\n",
       "      <td>150.000000</td>\n",
       "      <td>60.000000</td>\n",
       "    </tr>\n",
       "    <tr>\n",
       "      <th>25%</th>\n",
       "      <td>25.000000</td>\n",
       "      <td>155.000000</td>\n",
       "      <td>70.000000</td>\n",
       "    </tr>\n",
       "    <tr>\n",
       "      <th>50%</th>\n",
       "      <td>50.000000</td>\n",
       "      <td>162.000000</td>\n",
       "      <td>82.000000</td>\n",
       "    </tr>\n",
       "    <tr>\n",
       "      <th>75%</th>\n",
       "      <td>75.000000</td>\n",
       "      <td>167.000000</td>\n",
       "      <td>91.000000</td>\n",
       "    </tr>\n",
       "    <tr>\n",
       "      <th>max</th>\n",
       "      <td>100.000000</td>\n",
       "      <td>175.000000</td>\n",
       "      <td>98.000000</td>\n",
       "    </tr>\n",
       "  </tbody>\n",
       "</table>\n",
       "</div>"
      ],
      "text/plain": [
       "       Unnamed: 0      height       marks\n",
       "count  101.000000  101.000000  101.000000\n",
       "mean    50.000000  161.683168   80.366337\n",
       "std     29.300171    7.342930   11.358453\n",
       "min      0.000000  150.000000   60.000000\n",
       "25%     25.000000  155.000000   70.000000\n",
       "50%     50.000000  162.000000   82.000000\n",
       "75%     75.000000  167.000000   91.000000\n",
       "max    100.000000  175.000000   98.000000"
      ]
     },
     "execution_count": 83,
     "metadata": {},
     "output_type": "execute_result"
    }
   ],
   "source": [
    "df.drop(['id','weight'],axis=1).describe()"
   ]
  },
  {
   "cell_type": "code",
   "execution_count": 84,
   "id": "02e21971-8f8f-44a2-b255-7de2e5e4c7cc",
   "metadata": {},
   "outputs": [
    {
     "data": {
      "text/plain": [
       "Unnamed: 0     0\n",
       "id             0\n",
       "first_name     0\n",
       "last_name     54\n",
       "dob            0\n",
       "weight         0\n",
       "height         0\n",
       "course        26\n",
       "state         21\n",
       "marks          0\n",
       "dtype: int64"
      ]
     },
     "execution_count": 84,
     "metadata": {},
     "output_type": "execute_result"
    }
   ],
   "source": [
    "df.isnull().sum()  # got allthe blank values in each column."
   ]
  },
  {
   "cell_type": "code",
   "execution_count": 85,
   "id": "ba6af479-c5ad-4564-9c07-d1c1aa1ad56d",
   "metadata": {},
   "outputs": [
    {
     "data": {
      "text/plain": [
       "Unnamed: 0     0.000000\n",
       "id             0.000000\n",
       "first_name     0.000000\n",
       "last_name     53.465347\n",
       "dob            0.000000\n",
       "weight         0.000000\n",
       "height         0.000000\n",
       "course        25.742574\n",
       "state         20.792079\n",
       "marks          0.000000\n",
       "dtype: float64"
      ]
     },
     "execution_count": 85,
     "metadata": {},
     "output_type": "execute_result"
    }
   ],
   "source": [
    "df.isnull().mean()*100"
   ]
  },
  {
   "cell_type": "code",
   "execution_count": 86,
   "id": "a338f21c-b713-4f87-8f7d-9cf8451c3fef",
   "metadata": {},
   "outputs": [
    {
     "data": {
      "text/html": [
       "<div>\n",
       "<style scoped>\n",
       "    .dataframe tbody tr th:only-of-type {\n",
       "        vertical-align: middle;\n",
       "    }\n",
       "\n",
       "    .dataframe tbody tr th {\n",
       "        vertical-align: top;\n",
       "    }\n",
       "\n",
       "    .dataframe thead th {\n",
       "        text-align: right;\n",
       "    }\n",
       "</style>\n",
       "<table border=\"1\" class=\"dataframe\">\n",
       "  <thead>\n",
       "    <tr style=\"text-align: right;\">\n",
       "      <th></th>\n",
       "      <th>Unnamed: 0</th>\n",
       "      <th>id</th>\n",
       "      <th>first_name</th>\n",
       "      <th>last_name</th>\n",
       "      <th>dob</th>\n",
       "      <th>weight</th>\n",
       "      <th>height</th>\n",
       "      <th>course</th>\n",
       "      <th>state</th>\n",
       "      <th>marks</th>\n",
       "    </tr>\n",
       "  </thead>\n",
       "  <tbody>\n",
       "    <tr>\n",
       "      <th>0</th>\n",
       "      <td>0</td>\n",
       "      <td>100</td>\n",
       "      <td>Samarth</td>\n",
       "      <td>Kari</td>\n",
       "      <td>1997-05-28</td>\n",
       "      <td>72</td>\n",
       "      <td>174</td>\n",
       "      <td>NaN</td>\n",
       "      <td>NaN</td>\n",
       "      <td>69</td>\n",
       "    </tr>\n",
       "    <tr>\n",
       "      <th>1</th>\n",
       "      <td>1</td>\n",
       "      <td>101</td>\n",
       "      <td>Sumer</td>\n",
       "      <td>NaN</td>\n",
       "      <td>2000-06-03</td>\n",
       "      <td>62</td>\n",
       "      <td>167</td>\n",
       "      <td>DA</td>\n",
       "      <td>Uttar Pradesh</td>\n",
       "      <td>82</td>\n",
       "    </tr>\n",
       "    <tr>\n",
       "      <th>2</th>\n",
       "      <td>2</td>\n",
       "      <td>102</td>\n",
       "      <td>Anay</td>\n",
       "      <td>NaN</td>\n",
       "      <td>2004-11-24</td>\n",
       "      <td>79</td>\n",
       "      <td>175</td>\n",
       "      <td>NaN</td>\n",
       "      <td>Rajasthan</td>\n",
       "      <td>84</td>\n",
       "    </tr>\n",
       "    <tr>\n",
       "      <th>3</th>\n",
       "      <td>3</td>\n",
       "      <td>103</td>\n",
       "      <td>Shlok</td>\n",
       "      <td>NaN</td>\n",
       "      <td>1998-12-07</td>\n",
       "      <td>62</td>\n",
       "      <td>164</td>\n",
       "      <td>NaN</td>\n",
       "      <td>Rajasthan</td>\n",
       "      <td>63</td>\n",
       "    </tr>\n",
       "    <tr>\n",
       "      <th>4</th>\n",
       "      <td>4</td>\n",
       "      <td>104</td>\n",
       "      <td>Anahita</td>\n",
       "      <td>NaN</td>\n",
       "      <td>1999-01-03</td>\n",
       "      <td>74</td>\n",
       "      <td>170</td>\n",
       "      <td>DA</td>\n",
       "      <td>Uttar Pradesh</td>\n",
       "      <td>68</td>\n",
       "    </tr>\n",
       "  </tbody>\n",
       "</table>\n",
       "</div>"
      ],
      "text/plain": [
       "   Unnamed: 0   id first_name last_name         dob  weight  height course  \\\n",
       "0           0  100    Samarth      Kari  1997-05-28      72     174    NaN   \n",
       "1           1  101      Sumer       NaN  2000-06-03      62     167     DA   \n",
       "2           2  102       Anay       NaN  2004-11-24      79     175    NaN   \n",
       "3           3  103      Shlok       NaN  1998-12-07      62     164    NaN   \n",
       "4           4  104    Anahita       NaN  1999-01-03      74     170     DA   \n",
       "\n",
       "           state  marks  \n",
       "0            NaN     69  \n",
       "1  Uttar Pradesh     82  \n",
       "2      Rajasthan     84  \n",
       "3      Rajasthan     63  \n",
       "4  Uttar Pradesh     68  "
      ]
     },
     "execution_count": 86,
     "metadata": {},
     "output_type": "execute_result"
    }
   ],
   "source": [
    "df.head()"
   ]
  },
  {
   "cell_type": "code",
   "execution_count": 87,
   "id": "b2e1481d-8022-45ae-b9a7-7166446c0ec1",
   "metadata": {},
   "outputs": [
    {
     "data": {
      "text/plain": [
       "array([nan, 'DA', 'Python', 'DS', 'ML'], dtype=object)"
      ]
     },
     "execution_count": 87,
     "metadata": {},
     "output_type": "execute_result"
    }
   ],
   "source": [
    "df['course'].unique()"
   ]
  },
  {
   "cell_type": "code",
   "execution_count": 88,
   "id": "18a549a2-336b-469d-a160-91f5faad3db2",
   "metadata": {},
   "outputs": [
    {
     "data": {
      "text/plain": [
       "4"
      ]
     },
     "execution_count": 88,
     "metadata": {},
     "output_type": "execute_result"
    }
   ],
   "source": [
    "df['course'].nunique()"
   ]
  },
  {
   "cell_type": "code",
   "execution_count": 89,
   "id": "e01e9ae1-e8de-4175-8eea-a0df03c21f8c",
   "metadata": {},
   "outputs": [
    {
     "data": {
      "text/plain": [
       "course\n",
       "DA        22\n",
       "DS        22\n",
       "ML        17\n",
       "Python    14\n",
       "Name: count, dtype: int64"
      ]
     },
     "execution_count": 89,
     "metadata": {},
     "output_type": "execute_result"
    }
   ],
   "source": [
    "df['course'].value_counts()"
   ]
  },
  {
   "cell_type": "code",
   "execution_count": 90,
   "id": "b75717fa-5daa-49a5-8322-2bc0dc94c92a",
   "metadata": {},
   "outputs": [
    {
     "data": {
      "text/plain": [
       "Index(['DA', 'DS', 'ML', 'Python'], dtype='object', name='course')"
      ]
     },
     "execution_count": 90,
     "metadata": {},
     "output_type": "execute_result"
    }
   ],
   "source": [
    "df['course'].value_counts().index"
   ]
  },
  {
   "cell_type": "code",
   "execution_count": 91,
   "id": "e9f1cc54-1937-4f4e-98f4-f8e92c5f3290",
   "metadata": {},
   "outputs": [
    {
     "data": {
      "text/plain": [
       "array([22, 22, 17, 14], dtype=int64)"
      ]
     },
     "execution_count": 91,
     "metadata": {},
     "output_type": "execute_result"
    }
   ],
   "source": [
    "df['course'].value_counts().values"
   ]
  },
  {
   "cell_type": "code",
   "execution_count": 92,
   "id": "ca3744dc-ea92-4212-a7e4-b7565d4e9e50",
   "metadata": {},
   "outputs": [
    {
     "data": {
      "text/plain": [
       "array([nan, 'Uttar Pradesh', 'Rajasthan', 'Meghalaya', 'Karnataka',\n",
       "       'Nagaland', 'Goa'], dtype=object)"
      ]
     },
     "execution_count": 92,
     "metadata": {},
     "output_type": "execute_result"
    }
   ],
   "source": [
    "df['state'].unique()"
   ]
  },
  {
   "cell_type": "code",
   "execution_count": 93,
   "id": "b27527fb-52f7-41f8-b4f0-42f76da5d26c",
   "metadata": {},
   "outputs": [
    {
     "data": {
      "text/plain": [
       "6"
      ]
     },
     "execution_count": 93,
     "metadata": {},
     "output_type": "execute_result"
    }
   ],
   "source": [
    "df['state'].nunique()"
   ]
  },
  {
   "cell_type": "code",
   "execution_count": 94,
   "id": "5ad32c0b-5d33-40b9-8c42-46f60367586c",
   "metadata": {},
   "outputs": [
    {
     "data": {
      "text/plain": [
       "state\n",
       "Rajasthan        20\n",
       "Uttar Pradesh    16\n",
       "Meghalaya        14\n",
       "Nagaland         14\n",
       "Karnataka         9\n",
       "Goa               7\n",
       "Name: count, dtype: int64"
      ]
     },
     "execution_count": 94,
     "metadata": {},
     "output_type": "execute_result"
    }
   ],
   "source": [
    "df['state'].value_counts()"
   ]
  },
  {
   "cell_type": "code",
   "execution_count": 95,
   "id": "e39e345b-1e0a-4885-b9f2-4ac3ef73205a",
   "metadata": {},
   "outputs": [
    {
     "data": {
      "text/plain": [
       "Index(['Rajasthan', 'Uttar Pradesh', 'Meghalaya', 'Nagaland', 'Karnataka',\n",
       "       'Goa'],\n",
       "      dtype='object', name='state')"
      ]
     },
     "execution_count": 95,
     "metadata": {},
     "output_type": "execute_result"
    }
   ],
   "source": [
    "df['state'].value_counts().index"
   ]
  },
  {
   "cell_type": "code",
   "execution_count": 96,
   "id": "225f0475-2bb9-491a-b915-e498e80daccc",
   "metadata": {},
   "outputs": [
    {
     "data": {
      "text/plain": [
       "array([20, 16, 14, 14,  9,  7], dtype=int64)"
      ]
     },
     "execution_count": 96,
     "metadata": {},
     "output_type": "execute_result"
    }
   ],
   "source": [
    "df['state'].value_counts().values"
   ]
  },
  {
   "cell_type": "code",
   "execution_count": 97,
   "id": "c64ca5d6-09a9-4e8b-b7fe-3d9e623ecba5",
   "metadata": {},
   "outputs": [
    {
     "data": {
      "text/plain": [
       "array([69, 82, 84, 63, 68, 86, 92, 83, 76, 98, 97, 66, 81, 85, 96, 67, 72,\n",
       "       70, 79, 89, 77, 87, 91, 61, 95, 90, 94, 73, 65, 93, 64, 74, 78, 88,\n",
       "       71, 60], dtype=int64)"
      ]
     },
     "execution_count": 97,
     "metadata": {},
     "output_type": "execute_result"
    }
   ],
   "source": [
    "df['marks'].unique()"
   ]
  },
  {
   "cell_type": "code",
   "execution_count": 98,
   "id": "a3e4bc8d-24f0-4e84-8ce7-bb575116a04d",
   "metadata": {},
   "outputs": [
    {
     "data": {
      "text/plain": [
       "36"
      ]
     },
     "execution_count": 98,
     "metadata": {},
     "output_type": "execute_result"
    }
   ],
   "source": [
    "df['marks'].nunique()"
   ]
  },
  {
   "cell_type": "code",
   "execution_count": 99,
   "id": "9c23a2c6-12ce-42e2-9dba-90aecf4639f8",
   "metadata": {},
   "outputs": [
    {
     "data": {
      "text/html": [
       "<div>\n",
       "<style scoped>\n",
       "    .dataframe tbody tr th:only-of-type {\n",
       "        vertical-align: middle;\n",
       "    }\n",
       "\n",
       "    .dataframe tbody tr th {\n",
       "        vertical-align: top;\n",
       "    }\n",
       "\n",
       "    .dataframe thead th {\n",
       "        text-align: right;\n",
       "    }\n",
       "</style>\n",
       "<table border=\"1\" class=\"dataframe\">\n",
       "  <thead>\n",
       "    <tr style=\"text-align: right;\">\n",
       "      <th></th>\n",
       "      <th>Unnamed: 0</th>\n",
       "      <th>id</th>\n",
       "      <th>first_name</th>\n",
       "      <th>last_name</th>\n",
       "      <th>dob</th>\n",
       "      <th>weight</th>\n",
       "      <th>height</th>\n",
       "      <th>course</th>\n",
       "      <th>state</th>\n",
       "      <th>marks</th>\n",
       "    </tr>\n",
       "  </thead>\n",
       "  <tbody>\n",
       "    <tr>\n",
       "      <th>0</th>\n",
       "      <td>0</td>\n",
       "      <td>100</td>\n",
       "      <td>Samarth</td>\n",
       "      <td>Kari</td>\n",
       "      <td>1997-05-28</td>\n",
       "      <td>72</td>\n",
       "      <td>174</td>\n",
       "      <td>NaN</td>\n",
       "      <td>NaN</td>\n",
       "      <td>69</td>\n",
       "    </tr>\n",
       "    <tr>\n",
       "      <th>1</th>\n",
       "      <td>1</td>\n",
       "      <td>101</td>\n",
       "      <td>Sumer</td>\n",
       "      <td>NaN</td>\n",
       "      <td>2000-06-03</td>\n",
       "      <td>62</td>\n",
       "      <td>167</td>\n",
       "      <td>DA</td>\n",
       "      <td>Uttar Pradesh</td>\n",
       "      <td>82</td>\n",
       "    </tr>\n",
       "    <tr>\n",
       "      <th>2</th>\n",
       "      <td>2</td>\n",
       "      <td>102</td>\n",
       "      <td>Anay</td>\n",
       "      <td>NaN</td>\n",
       "      <td>2004-11-24</td>\n",
       "      <td>79</td>\n",
       "      <td>175</td>\n",
       "      <td>NaN</td>\n",
       "      <td>Rajasthan</td>\n",
       "      <td>84</td>\n",
       "    </tr>\n",
       "    <tr>\n",
       "      <th>3</th>\n",
       "      <td>3</td>\n",
       "      <td>103</td>\n",
       "      <td>Shlok</td>\n",
       "      <td>NaN</td>\n",
       "      <td>1998-12-07</td>\n",
       "      <td>62</td>\n",
       "      <td>164</td>\n",
       "      <td>NaN</td>\n",
       "      <td>Rajasthan</td>\n",
       "      <td>63</td>\n",
       "    </tr>\n",
       "    <tr>\n",
       "      <th>4</th>\n",
       "      <td>4</td>\n",
       "      <td>104</td>\n",
       "      <td>Anahita</td>\n",
       "      <td>NaN</td>\n",
       "      <td>1999-01-03</td>\n",
       "      <td>74</td>\n",
       "      <td>170</td>\n",
       "      <td>DA</td>\n",
       "      <td>Uttar Pradesh</td>\n",
       "      <td>68</td>\n",
       "    </tr>\n",
       "  </tbody>\n",
       "</table>\n",
       "</div>"
      ],
      "text/plain": [
       "   Unnamed: 0   id first_name last_name         dob  weight  height course  \\\n",
       "0           0  100    Samarth      Kari  1997-05-28      72     174    NaN   \n",
       "1           1  101      Sumer       NaN  2000-06-03      62     167     DA   \n",
       "2           2  102       Anay       NaN  2004-11-24      79     175    NaN   \n",
       "3           3  103      Shlok       NaN  1998-12-07      62     164    NaN   \n",
       "4           4  104    Anahita       NaN  1999-01-03      74     170     DA   \n",
       "\n",
       "           state  marks  \n",
       "0            NaN     69  \n",
       "1  Uttar Pradesh     82  \n",
       "2      Rajasthan     84  \n",
       "3      Rajasthan     63  \n",
       "4  Uttar Pradesh     68  "
      ]
     },
     "execution_count": 99,
     "metadata": {},
     "output_type": "execute_result"
    }
   ],
   "source": [
    "df.head()"
   ]
  },
  {
   "cell_type": "code",
   "execution_count": 100,
   "id": "5b28b4b8-c3ea-4650-867a-4463a69bc51a",
   "metadata": {},
   "outputs": [
    {
     "data": {
      "text/plain": [
       "(29, 10)"
      ]
     },
     "execution_count": 100,
     "metadata": {},
     "output_type": "execute_result"
    }
   ],
   "source": [
    "df.dropna().shape"
   ]
  },
  {
   "cell_type": "code",
   "execution_count": 101,
   "id": "361b11c8-ea02-4004-a9b5-d03abba06384",
   "metadata": {},
   "outputs": [
    {
     "data": {
      "text/html": [
       "<div>\n",
       "<style scoped>\n",
       "    .dataframe tbody tr th:only-of-type {\n",
       "        vertical-align: middle;\n",
       "    }\n",
       "\n",
       "    .dataframe tbody tr th {\n",
       "        vertical-align: top;\n",
       "    }\n",
       "\n",
       "    .dataframe thead th {\n",
       "        text-align: right;\n",
       "    }\n",
       "</style>\n",
       "<table border=\"1\" class=\"dataframe\">\n",
       "  <thead>\n",
       "    <tr style=\"text-align: right;\">\n",
       "      <th></th>\n",
       "      <th>last_name</th>\n",
       "    </tr>\n",
       "  </thead>\n",
       "  <tbody>\n",
       "    <tr>\n",
       "      <th>0</th>\n",
       "      <td>Kari</td>\n",
       "    </tr>\n",
       "    <tr>\n",
       "      <th>5</th>\n",
       "      <td>Ahluwalia</td>\n",
       "    </tr>\n",
       "    <tr>\n",
       "      <th>7</th>\n",
       "      <td>Mann</td>\n",
       "    </tr>\n",
       "    <tr>\n",
       "      <th>8</th>\n",
       "      <td>Kumer</td>\n",
       "    </tr>\n",
       "    <tr>\n",
       "      <th>9</th>\n",
       "      <td>Biswas</td>\n",
       "    </tr>\n",
       "  </tbody>\n",
       "</table>\n",
       "</div>"
      ],
      "text/plain": [
       "   last_name\n",
       "0       Kari\n",
       "5  Ahluwalia\n",
       "7       Mann\n",
       "8      Kumer\n",
       "9     Biswas"
      ]
     },
     "execution_count": 101,
     "metadata": {},
     "output_type": "execute_result"
    }
   ],
   "source": [
    "df[['last_name']].dropna().head()"
   ]
  },
  {
   "cell_type": "code",
   "execution_count": 102,
   "id": "77c76849-07c9-4935-afd2-99c8a0d34d76",
   "metadata": {},
   "outputs": [],
   "source": [
    "# df.drop(3)"
   ]
  },
  {
   "cell_type": "code",
   "execution_count": 103,
   "id": "997d2ad2-7932-4a58-8e6c-db161837836e",
   "metadata": {},
   "outputs": [
    {
     "data": {
      "text/html": [
       "<div>\n",
       "<style scoped>\n",
       "    .dataframe tbody tr th:only-of-type {\n",
       "        vertical-align: middle;\n",
       "    }\n",
       "\n",
       "    .dataframe tbody tr th {\n",
       "        vertical-align: top;\n",
       "    }\n",
       "\n",
       "    .dataframe thead th {\n",
       "        text-align: right;\n",
       "    }\n",
       "</style>\n",
       "<table border=\"1\" class=\"dataframe\">\n",
       "  <thead>\n",
       "    <tr style=\"text-align: right;\">\n",
       "      <th></th>\n",
       "      <th>Unnamed: 0</th>\n",
       "      <th>id</th>\n",
       "      <th>first_name</th>\n",
       "      <th>last_name</th>\n",
       "      <th>dob</th>\n",
       "      <th>weight</th>\n",
       "      <th>height</th>\n",
       "      <th>course</th>\n",
       "      <th>state</th>\n",
       "      <th>marks</th>\n",
       "    </tr>\n",
       "  </thead>\n",
       "  <tbody>\n",
       "    <tr>\n",
       "      <th>0</th>\n",
       "      <td>0</td>\n",
       "      <td>100</td>\n",
       "      <td>Samarth</td>\n",
       "      <td>Kari</td>\n",
       "      <td>1997-05-28</td>\n",
       "      <td>72</td>\n",
       "      <td>174</td>\n",
       "      <td>NaN</td>\n",
       "      <td>NaN</td>\n",
       "      <td>69</td>\n",
       "    </tr>\n",
       "    <tr>\n",
       "      <th>1</th>\n",
       "      <td>1</td>\n",
       "      <td>101</td>\n",
       "      <td>Sumer</td>\n",
       "      <td>NaN</td>\n",
       "      <td>2000-06-03</td>\n",
       "      <td>62</td>\n",
       "      <td>167</td>\n",
       "      <td>DA</td>\n",
       "      <td>Uttar Pradesh</td>\n",
       "      <td>82</td>\n",
       "    </tr>\n",
       "    <tr>\n",
       "      <th>2</th>\n",
       "      <td>2</td>\n",
       "      <td>102</td>\n",
       "      <td>Anay</td>\n",
       "      <td>NaN</td>\n",
       "      <td>2004-11-24</td>\n",
       "      <td>79</td>\n",
       "      <td>175</td>\n",
       "      <td>NaN</td>\n",
       "      <td>Rajasthan</td>\n",
       "      <td>84</td>\n",
       "    </tr>\n",
       "    <tr>\n",
       "      <th>3</th>\n",
       "      <td>3</td>\n",
       "      <td>103</td>\n",
       "      <td>Shlok</td>\n",
       "      <td>NaN</td>\n",
       "      <td>1998-12-07</td>\n",
       "      <td>62</td>\n",
       "      <td>164</td>\n",
       "      <td>NaN</td>\n",
       "      <td>Rajasthan</td>\n",
       "      <td>63</td>\n",
       "    </tr>\n",
       "    <tr>\n",
       "      <th>4</th>\n",
       "      <td>4</td>\n",
       "      <td>104</td>\n",
       "      <td>Anahita</td>\n",
       "      <td>NaN</td>\n",
       "      <td>1999-01-03</td>\n",
       "      <td>74</td>\n",
       "      <td>170</td>\n",
       "      <td>DA</td>\n",
       "      <td>Uttar Pradesh</td>\n",
       "      <td>68</td>\n",
       "    </tr>\n",
       "  </tbody>\n",
       "</table>\n",
       "</div>"
      ],
      "text/plain": [
       "   Unnamed: 0   id first_name last_name         dob  weight  height course  \\\n",
       "0           0  100    Samarth      Kari  1997-05-28      72     174    NaN   \n",
       "1           1  101      Sumer       NaN  2000-06-03      62     167     DA   \n",
       "2           2  102       Anay       NaN  2004-11-24      79     175    NaN   \n",
       "3           3  103      Shlok       NaN  1998-12-07      62     164    NaN   \n",
       "4           4  104    Anahita       NaN  1999-01-03      74     170     DA   \n",
       "\n",
       "           state  marks  \n",
       "0            NaN     69  \n",
       "1  Uttar Pradesh     82  \n",
       "2      Rajasthan     84  \n",
       "3      Rajasthan     63  \n",
       "4  Uttar Pradesh     68  "
      ]
     },
     "execution_count": 103,
     "metadata": {},
     "output_type": "execute_result"
    }
   ],
   "source": [
    "df.head()"
   ]
  },
  {
   "cell_type": "code",
   "execution_count": 106,
   "id": "4d0450da-0f5f-47e1-baa7-6d90f1c213db",
   "metadata": {},
   "outputs": [
    {
     "data": {
      "text/plain": [
       "nan"
      ]
     },
     "execution_count": 106,
     "metadata": {},
     "output_type": "execute_result"
    }
   ],
   "source": [
    "np.nan"
   ]
  },
  {
   "cell_type": "code",
   "execution_count": 105,
   "id": "00995eb3-aa72-401b-bbfa-9a73ecc24c51",
   "metadata": {},
   "outputs": [],
   "source": [
    "df['NewColumn'] = np.nan"
   ]
  },
  {
   "cell_type": "code",
   "execution_count": 107,
   "id": "9539794c-e42b-4c47-8298-4e05e423221e",
   "metadata": {},
   "outputs": [],
   "source": [
    "df['NewColumn2'] = \"ABC\""
   ]
  },
  {
   "cell_type": "code",
   "execution_count": 108,
   "id": "2a4c62eb-8fe9-44a0-8212-c62682f2d46f",
   "metadata": {},
   "outputs": [
    {
     "data": {
      "text/html": [
       "<div>\n",
       "<style scoped>\n",
       "    .dataframe tbody tr th:only-of-type {\n",
       "        vertical-align: middle;\n",
       "    }\n",
       "\n",
       "    .dataframe tbody tr th {\n",
       "        vertical-align: top;\n",
       "    }\n",
       "\n",
       "    .dataframe thead th {\n",
       "        text-align: right;\n",
       "    }\n",
       "</style>\n",
       "<table border=\"1\" class=\"dataframe\">\n",
       "  <thead>\n",
       "    <tr style=\"text-align: right;\">\n",
       "      <th></th>\n",
       "      <th>Unnamed: 0</th>\n",
       "      <th>id</th>\n",
       "      <th>first_name</th>\n",
       "      <th>last_name</th>\n",
       "      <th>dob</th>\n",
       "      <th>weight</th>\n",
       "      <th>height</th>\n",
       "      <th>course</th>\n",
       "      <th>state</th>\n",
       "      <th>marks</th>\n",
       "      <th>NewColumn</th>\n",
       "      <th>NewColumn2</th>\n",
       "    </tr>\n",
       "  </thead>\n",
       "  <tbody>\n",
       "    <tr>\n",
       "      <th>0</th>\n",
       "      <td>0</td>\n",
       "      <td>100</td>\n",
       "      <td>Samarth</td>\n",
       "      <td>Kari</td>\n",
       "      <td>1997-05-28</td>\n",
       "      <td>72</td>\n",
       "      <td>174</td>\n",
       "      <td>NaN</td>\n",
       "      <td>NaN</td>\n",
       "      <td>69</td>\n",
       "      <td>NaN</td>\n",
       "      <td>ABC</td>\n",
       "    </tr>\n",
       "    <tr>\n",
       "      <th>1</th>\n",
       "      <td>1</td>\n",
       "      <td>101</td>\n",
       "      <td>Sumer</td>\n",
       "      <td>NaN</td>\n",
       "      <td>2000-06-03</td>\n",
       "      <td>62</td>\n",
       "      <td>167</td>\n",
       "      <td>DA</td>\n",
       "      <td>Uttar Pradesh</td>\n",
       "      <td>82</td>\n",
       "      <td>NaN</td>\n",
       "      <td>ABC</td>\n",
       "    </tr>\n",
       "    <tr>\n",
       "      <th>2</th>\n",
       "      <td>2</td>\n",
       "      <td>102</td>\n",
       "      <td>Anay</td>\n",
       "      <td>NaN</td>\n",
       "      <td>2004-11-24</td>\n",
       "      <td>79</td>\n",
       "      <td>175</td>\n",
       "      <td>NaN</td>\n",
       "      <td>Rajasthan</td>\n",
       "      <td>84</td>\n",
       "      <td>NaN</td>\n",
       "      <td>ABC</td>\n",
       "    </tr>\n",
       "    <tr>\n",
       "      <th>3</th>\n",
       "      <td>3</td>\n",
       "      <td>103</td>\n",
       "      <td>Shlok</td>\n",
       "      <td>NaN</td>\n",
       "      <td>1998-12-07</td>\n",
       "      <td>62</td>\n",
       "      <td>164</td>\n",
       "      <td>NaN</td>\n",
       "      <td>Rajasthan</td>\n",
       "      <td>63</td>\n",
       "      <td>NaN</td>\n",
       "      <td>ABC</td>\n",
       "    </tr>\n",
       "    <tr>\n",
       "      <th>4</th>\n",
       "      <td>4</td>\n",
       "      <td>104</td>\n",
       "      <td>Anahita</td>\n",
       "      <td>NaN</td>\n",
       "      <td>1999-01-03</td>\n",
       "      <td>74</td>\n",
       "      <td>170</td>\n",
       "      <td>DA</td>\n",
       "      <td>Uttar Pradesh</td>\n",
       "      <td>68</td>\n",
       "      <td>NaN</td>\n",
       "      <td>ABC</td>\n",
       "    </tr>\n",
       "  </tbody>\n",
       "</table>\n",
       "</div>"
      ],
      "text/plain": [
       "   Unnamed: 0   id first_name last_name         dob  weight  height course  \\\n",
       "0           0  100    Samarth      Kari  1997-05-28      72     174    NaN   \n",
       "1           1  101      Sumer       NaN  2000-06-03      62     167     DA   \n",
       "2           2  102       Anay       NaN  2004-11-24      79     175    NaN   \n",
       "3           3  103      Shlok       NaN  1998-12-07      62     164    NaN   \n",
       "4           4  104    Anahita       NaN  1999-01-03      74     170     DA   \n",
       "\n",
       "           state  marks  NewColumn NewColumn2  \n",
       "0            NaN     69        NaN        ABC  \n",
       "1  Uttar Pradesh     82        NaN        ABC  \n",
       "2      Rajasthan     84        NaN        ABC  \n",
       "3      Rajasthan     63        NaN        ABC  \n",
       "4  Uttar Pradesh     68        NaN        ABC  "
      ]
     },
     "execution_count": 108,
     "metadata": {},
     "output_type": "execute_result"
    }
   ],
   "source": [
    "df.head()"
   ]
  },
  {
   "cell_type": "code",
   "execution_count": 109,
   "id": "51575e60-4280-40bb-b634-98d6959f9eb2",
   "metadata": {},
   "outputs": [],
   "source": [
    "df['CGPA'] = round(df['marks']/10,2)"
   ]
  },
  {
   "cell_type": "code",
   "execution_count": 110,
   "id": "97f99cfc-52f4-4556-88c5-a004b082d931",
   "metadata": {},
   "outputs": [
    {
     "data": {
      "text/html": [
       "<div>\n",
       "<style scoped>\n",
       "    .dataframe tbody tr th:only-of-type {\n",
       "        vertical-align: middle;\n",
       "    }\n",
       "\n",
       "    .dataframe tbody tr th {\n",
       "        vertical-align: top;\n",
       "    }\n",
       "\n",
       "    .dataframe thead th {\n",
       "        text-align: right;\n",
       "    }\n",
       "</style>\n",
       "<table border=\"1\" class=\"dataframe\">\n",
       "  <thead>\n",
       "    <tr style=\"text-align: right;\">\n",
       "      <th></th>\n",
       "      <th>Unnamed: 0</th>\n",
       "      <th>id</th>\n",
       "      <th>first_name</th>\n",
       "      <th>last_name</th>\n",
       "      <th>dob</th>\n",
       "      <th>weight</th>\n",
       "      <th>height</th>\n",
       "      <th>course</th>\n",
       "      <th>state</th>\n",
       "      <th>marks</th>\n",
       "      <th>NewColumn</th>\n",
       "      <th>NewColumn2</th>\n",
       "      <th>CGPA</th>\n",
       "    </tr>\n",
       "  </thead>\n",
       "  <tbody>\n",
       "    <tr>\n",
       "      <th>0</th>\n",
       "      <td>0</td>\n",
       "      <td>100</td>\n",
       "      <td>Samarth</td>\n",
       "      <td>Kari</td>\n",
       "      <td>1997-05-28</td>\n",
       "      <td>72</td>\n",
       "      <td>174</td>\n",
       "      <td>NaN</td>\n",
       "      <td>NaN</td>\n",
       "      <td>69</td>\n",
       "      <td>NaN</td>\n",
       "      <td>ABC</td>\n",
       "      <td>6.9</td>\n",
       "    </tr>\n",
       "    <tr>\n",
       "      <th>1</th>\n",
       "      <td>1</td>\n",
       "      <td>101</td>\n",
       "      <td>Sumer</td>\n",
       "      <td>NaN</td>\n",
       "      <td>2000-06-03</td>\n",
       "      <td>62</td>\n",
       "      <td>167</td>\n",
       "      <td>DA</td>\n",
       "      <td>Uttar Pradesh</td>\n",
       "      <td>82</td>\n",
       "      <td>NaN</td>\n",
       "      <td>ABC</td>\n",
       "      <td>8.2</td>\n",
       "    </tr>\n",
       "    <tr>\n",
       "      <th>2</th>\n",
       "      <td>2</td>\n",
       "      <td>102</td>\n",
       "      <td>Anay</td>\n",
       "      <td>NaN</td>\n",
       "      <td>2004-11-24</td>\n",
       "      <td>79</td>\n",
       "      <td>175</td>\n",
       "      <td>NaN</td>\n",
       "      <td>Rajasthan</td>\n",
       "      <td>84</td>\n",
       "      <td>NaN</td>\n",
       "      <td>ABC</td>\n",
       "      <td>8.4</td>\n",
       "    </tr>\n",
       "    <tr>\n",
       "      <th>3</th>\n",
       "      <td>3</td>\n",
       "      <td>103</td>\n",
       "      <td>Shlok</td>\n",
       "      <td>NaN</td>\n",
       "      <td>1998-12-07</td>\n",
       "      <td>62</td>\n",
       "      <td>164</td>\n",
       "      <td>NaN</td>\n",
       "      <td>Rajasthan</td>\n",
       "      <td>63</td>\n",
       "      <td>NaN</td>\n",
       "      <td>ABC</td>\n",
       "      <td>6.3</td>\n",
       "    </tr>\n",
       "    <tr>\n",
       "      <th>4</th>\n",
       "      <td>4</td>\n",
       "      <td>104</td>\n",
       "      <td>Anahita</td>\n",
       "      <td>NaN</td>\n",
       "      <td>1999-01-03</td>\n",
       "      <td>74</td>\n",
       "      <td>170</td>\n",
       "      <td>DA</td>\n",
       "      <td>Uttar Pradesh</td>\n",
       "      <td>68</td>\n",
       "      <td>NaN</td>\n",
       "      <td>ABC</td>\n",
       "      <td>6.8</td>\n",
       "    </tr>\n",
       "  </tbody>\n",
       "</table>\n",
       "</div>"
      ],
      "text/plain": [
       "   Unnamed: 0   id first_name last_name         dob  weight  height course  \\\n",
       "0           0  100    Samarth      Kari  1997-05-28      72     174    NaN   \n",
       "1           1  101      Sumer       NaN  2000-06-03      62     167     DA   \n",
       "2           2  102       Anay       NaN  2004-11-24      79     175    NaN   \n",
       "3           3  103      Shlok       NaN  1998-12-07      62     164    NaN   \n",
       "4           4  104    Anahita       NaN  1999-01-03      74     170     DA   \n",
       "\n",
       "           state  marks  NewColumn NewColumn2  CGPA  \n",
       "0            NaN     69        NaN        ABC   6.9  \n",
       "1  Uttar Pradesh     82        NaN        ABC   8.2  \n",
       "2      Rajasthan     84        NaN        ABC   8.4  \n",
       "3      Rajasthan     63        NaN        ABC   6.3  \n",
       "4  Uttar Pradesh     68        NaN        ABC   6.8  "
      ]
     },
     "execution_count": 110,
     "metadata": {},
     "output_type": "execute_result"
    }
   ],
   "source": [
    "df.head()"
   ]
  },
  {
   "cell_type": "code",
   "execution_count": 115,
   "id": "c44cc325-51a1-4085-9c58-8e6140021177",
   "metadata": {},
   "outputs": [],
   "source": [
    "df.drop(['NewColumn','NewColumn2'],inplace=True,axis=1)"
   ]
  },
  {
   "cell_type": "code",
   "execution_count": 116,
   "id": "0405c977-38b6-4e1b-b554-e27fc01722af",
   "metadata": {},
   "outputs": [
    {
     "data": {
      "text/html": [
       "<div>\n",
       "<style scoped>\n",
       "    .dataframe tbody tr th:only-of-type {\n",
       "        vertical-align: middle;\n",
       "    }\n",
       "\n",
       "    .dataframe tbody tr th {\n",
       "        vertical-align: top;\n",
       "    }\n",
       "\n",
       "    .dataframe thead th {\n",
       "        text-align: right;\n",
       "    }\n",
       "</style>\n",
       "<table border=\"1\" class=\"dataframe\">\n",
       "  <thead>\n",
       "    <tr style=\"text-align: right;\">\n",
       "      <th></th>\n",
       "      <th>Unnamed: 0</th>\n",
       "      <th>id</th>\n",
       "      <th>first_name</th>\n",
       "      <th>last_name</th>\n",
       "      <th>dob</th>\n",
       "      <th>weight</th>\n",
       "      <th>height</th>\n",
       "      <th>course</th>\n",
       "      <th>state</th>\n",
       "      <th>marks</th>\n",
       "      <th>CGPA</th>\n",
       "    </tr>\n",
       "  </thead>\n",
       "  <tbody>\n",
       "    <tr>\n",
       "      <th>0</th>\n",
       "      <td>0</td>\n",
       "      <td>100</td>\n",
       "      <td>Samarth</td>\n",
       "      <td>Kari</td>\n",
       "      <td>1997-05-28</td>\n",
       "      <td>72</td>\n",
       "      <td>174</td>\n",
       "      <td>NaN</td>\n",
       "      <td>NaN</td>\n",
       "      <td>69</td>\n",
       "      <td>6.9</td>\n",
       "    </tr>\n",
       "    <tr>\n",
       "      <th>1</th>\n",
       "      <td>1</td>\n",
       "      <td>101</td>\n",
       "      <td>Sumer</td>\n",
       "      <td>NaN</td>\n",
       "      <td>2000-06-03</td>\n",
       "      <td>62</td>\n",
       "      <td>167</td>\n",
       "      <td>DA</td>\n",
       "      <td>Uttar Pradesh</td>\n",
       "      <td>82</td>\n",
       "      <td>8.2</td>\n",
       "    </tr>\n",
       "    <tr>\n",
       "      <th>2</th>\n",
       "      <td>2</td>\n",
       "      <td>102</td>\n",
       "      <td>Anay</td>\n",
       "      <td>NaN</td>\n",
       "      <td>2004-11-24</td>\n",
       "      <td>79</td>\n",
       "      <td>175</td>\n",
       "      <td>NaN</td>\n",
       "      <td>Rajasthan</td>\n",
       "      <td>84</td>\n",
       "      <td>8.4</td>\n",
       "    </tr>\n",
       "    <tr>\n",
       "      <th>3</th>\n",
       "      <td>3</td>\n",
       "      <td>103</td>\n",
       "      <td>Shlok</td>\n",
       "      <td>NaN</td>\n",
       "      <td>1998-12-07</td>\n",
       "      <td>62</td>\n",
       "      <td>164</td>\n",
       "      <td>NaN</td>\n",
       "      <td>Rajasthan</td>\n",
       "      <td>63</td>\n",
       "      <td>6.3</td>\n",
       "    </tr>\n",
       "    <tr>\n",
       "      <th>4</th>\n",
       "      <td>4</td>\n",
       "      <td>104</td>\n",
       "      <td>Anahita</td>\n",
       "      <td>NaN</td>\n",
       "      <td>1999-01-03</td>\n",
       "      <td>74</td>\n",
       "      <td>170</td>\n",
       "      <td>DA</td>\n",
       "      <td>Uttar Pradesh</td>\n",
       "      <td>68</td>\n",
       "      <td>6.8</td>\n",
       "    </tr>\n",
       "  </tbody>\n",
       "</table>\n",
       "</div>"
      ],
      "text/plain": [
       "   Unnamed: 0   id first_name last_name         dob  weight  height course  \\\n",
       "0           0  100    Samarth      Kari  1997-05-28      72     174    NaN   \n",
       "1           1  101      Sumer       NaN  2000-06-03      62     167     DA   \n",
       "2           2  102       Anay       NaN  2004-11-24      79     175    NaN   \n",
       "3           3  103      Shlok       NaN  1998-12-07      62     164    NaN   \n",
       "4           4  104    Anahita       NaN  1999-01-03      74     170     DA   \n",
       "\n",
       "           state  marks  CGPA  \n",
       "0            NaN     69   6.9  \n",
       "1  Uttar Pradesh     82   8.2  \n",
       "2      Rajasthan     84   8.4  \n",
       "3      Rajasthan     63   6.3  \n",
       "4  Uttar Pradesh     68   6.8  "
      ]
     },
     "execution_count": 116,
     "metadata": {},
     "output_type": "execute_result"
    }
   ],
   "source": [
    "df.head()"
   ]
  },
  {
   "cell_type": "code",
   "execution_count": 117,
   "id": "a69e37e5-18cd-43eb-8805-f742e5155e32",
   "metadata": {},
   "outputs": [],
   "source": [
    "# bmi = wt/h**; wt is kg, h is m"
   ]
  },
  {
   "cell_type": "code",
   "execution_count": 119,
   "id": "73a87d7b-c6d1-4658-a6ba-27c2dd0a416c",
   "metadata": {},
   "outputs": [],
   "source": [
    "df['bmi'] = df['weight']/(df['height']/100)**2"
   ]
  },
  {
   "cell_type": "code",
   "execution_count": 120,
   "id": "76b85222-1547-4902-a119-f1462e3eb7ae",
   "metadata": {},
   "outputs": [
    {
     "data": {
      "text/html": [
       "<div>\n",
       "<style scoped>\n",
       "    .dataframe tbody tr th:only-of-type {\n",
       "        vertical-align: middle;\n",
       "    }\n",
       "\n",
       "    .dataframe tbody tr th {\n",
       "        vertical-align: top;\n",
       "    }\n",
       "\n",
       "    .dataframe thead th {\n",
       "        text-align: right;\n",
       "    }\n",
       "</style>\n",
       "<table border=\"1\" class=\"dataframe\">\n",
       "  <thead>\n",
       "    <tr style=\"text-align: right;\">\n",
       "      <th></th>\n",
       "      <th>Unnamed: 0</th>\n",
       "      <th>id</th>\n",
       "      <th>first_name</th>\n",
       "      <th>last_name</th>\n",
       "      <th>dob</th>\n",
       "      <th>weight</th>\n",
       "      <th>height</th>\n",
       "      <th>course</th>\n",
       "      <th>state</th>\n",
       "      <th>marks</th>\n",
       "      <th>CGPA</th>\n",
       "      <th>bmi</th>\n",
       "    </tr>\n",
       "  </thead>\n",
       "  <tbody>\n",
       "    <tr>\n",
       "      <th>0</th>\n",
       "      <td>0</td>\n",
       "      <td>100</td>\n",
       "      <td>Samarth</td>\n",
       "      <td>Kari</td>\n",
       "      <td>1997-05-28</td>\n",
       "      <td>72</td>\n",
       "      <td>174</td>\n",
       "      <td>NaN</td>\n",
       "      <td>NaN</td>\n",
       "      <td>69</td>\n",
       "      <td>6.9</td>\n",
       "      <td>23.781213</td>\n",
       "    </tr>\n",
       "    <tr>\n",
       "      <th>1</th>\n",
       "      <td>1</td>\n",
       "      <td>101</td>\n",
       "      <td>Sumer</td>\n",
       "      <td>NaN</td>\n",
       "      <td>2000-06-03</td>\n",
       "      <td>62</td>\n",
       "      <td>167</td>\n",
       "      <td>DA</td>\n",
       "      <td>Uttar Pradesh</td>\n",
       "      <td>82</td>\n",
       "      <td>8.2</td>\n",
       "      <td>22.230987</td>\n",
       "    </tr>\n",
       "    <tr>\n",
       "      <th>2</th>\n",
       "      <td>2</td>\n",
       "      <td>102</td>\n",
       "      <td>Anay</td>\n",
       "      <td>NaN</td>\n",
       "      <td>2004-11-24</td>\n",
       "      <td>79</td>\n",
       "      <td>175</td>\n",
       "      <td>NaN</td>\n",
       "      <td>Rajasthan</td>\n",
       "      <td>84</td>\n",
       "      <td>8.4</td>\n",
       "      <td>25.795918</td>\n",
       "    </tr>\n",
       "    <tr>\n",
       "      <th>3</th>\n",
       "      <td>3</td>\n",
       "      <td>103</td>\n",
       "      <td>Shlok</td>\n",
       "      <td>NaN</td>\n",
       "      <td>1998-12-07</td>\n",
       "      <td>62</td>\n",
       "      <td>164</td>\n",
       "      <td>NaN</td>\n",
       "      <td>Rajasthan</td>\n",
       "      <td>63</td>\n",
       "      <td>6.3</td>\n",
       "      <td>23.051755</td>\n",
       "    </tr>\n",
       "    <tr>\n",
       "      <th>4</th>\n",
       "      <td>4</td>\n",
       "      <td>104</td>\n",
       "      <td>Anahita</td>\n",
       "      <td>NaN</td>\n",
       "      <td>1999-01-03</td>\n",
       "      <td>74</td>\n",
       "      <td>170</td>\n",
       "      <td>DA</td>\n",
       "      <td>Uttar Pradesh</td>\n",
       "      <td>68</td>\n",
       "      <td>6.8</td>\n",
       "      <td>25.605536</td>\n",
       "    </tr>\n",
       "  </tbody>\n",
       "</table>\n",
       "</div>"
      ],
      "text/plain": [
       "   Unnamed: 0   id first_name last_name         dob  weight  height course  \\\n",
       "0           0  100    Samarth      Kari  1997-05-28      72     174    NaN   \n",
       "1           1  101      Sumer       NaN  2000-06-03      62     167     DA   \n",
       "2           2  102       Anay       NaN  2004-11-24      79     175    NaN   \n",
       "3           3  103      Shlok       NaN  1998-12-07      62     164    NaN   \n",
       "4           4  104    Anahita       NaN  1999-01-03      74     170     DA   \n",
       "\n",
       "           state  marks  CGPA        bmi  \n",
       "0            NaN     69   6.9  23.781213  \n",
       "1  Uttar Pradesh     82   8.2  22.230987  \n",
       "2      Rajasthan     84   8.4  25.795918  \n",
       "3      Rajasthan     63   6.3  23.051755  \n",
       "4  Uttar Pradesh     68   6.8  25.605536  "
      ]
     },
     "execution_count": 120,
     "metadata": {},
     "output_type": "execute_result"
    }
   ],
   "source": [
    "df.head()"
   ]
  },
  {
   "cell_type": "code",
   "execution_count": 121,
   "id": "2e99618a-0522-4339-b3cc-021e308e1122",
   "metadata": {},
   "outputs": [],
   "source": [
    "rearranged_cols = ['id', 'first_name', 'last_name', 'dob', 'weight', 'bmi', 'course',\n",
    "                   'state', 'marks', 'CGPA']"
   ]
  },
  {
   "cell_type": "code",
   "execution_count": 122,
   "id": "12d5d68f-ea0c-48ba-bee8-681d18809f45",
   "metadata": {},
   "outputs": [],
   "source": [
    "df = df[rearranged_cols]"
   ]
  },
  {
   "cell_type": "code",
   "execution_count": 124,
   "id": "fdfa7551-dd13-462e-84a4-b702dcc27187",
   "metadata": {},
   "outputs": [
    {
     "data": {
      "text/html": [
       "<div>\n",
       "<style scoped>\n",
       "    .dataframe tbody tr th:only-of-type {\n",
       "        vertical-align: middle;\n",
       "    }\n",
       "\n",
       "    .dataframe tbody tr th {\n",
       "        vertical-align: top;\n",
       "    }\n",
       "\n",
       "    .dataframe thead th {\n",
       "        text-align: right;\n",
       "    }\n",
       "</style>\n",
       "<table border=\"1\" class=\"dataframe\">\n",
       "  <thead>\n",
       "    <tr style=\"text-align: right;\">\n",
       "      <th></th>\n",
       "      <th>id</th>\n",
       "      <th>first_name</th>\n",
       "      <th>last_name</th>\n",
       "      <th>dob</th>\n",
       "      <th>weight</th>\n",
       "      <th>bmi</th>\n",
       "      <th>course</th>\n",
       "      <th>state</th>\n",
       "      <th>marks</th>\n",
       "      <th>CGPA</th>\n",
       "    </tr>\n",
       "  </thead>\n",
       "  <tbody>\n",
       "    <tr>\n",
       "      <th>0</th>\n",
       "      <td>100</td>\n",
       "      <td>Samarth</td>\n",
       "      <td>Kari</td>\n",
       "      <td>1997-05-28</td>\n",
       "      <td>72</td>\n",
       "      <td>23.781213</td>\n",
       "      <td>NaN</td>\n",
       "      <td>NaN</td>\n",
       "      <td>69</td>\n",
       "      <td>6.9</td>\n",
       "    </tr>\n",
       "    <tr>\n",
       "      <th>1</th>\n",
       "      <td>101</td>\n",
       "      <td>Sumer</td>\n",
       "      <td>NaN</td>\n",
       "      <td>2000-06-03</td>\n",
       "      <td>62</td>\n",
       "      <td>22.230987</td>\n",
       "      <td>DA</td>\n",
       "      <td>Uttar Pradesh</td>\n",
       "      <td>82</td>\n",
       "      <td>8.2</td>\n",
       "    </tr>\n",
       "    <tr>\n",
       "      <th>2</th>\n",
       "      <td>102</td>\n",
       "      <td>Anay</td>\n",
       "      <td>NaN</td>\n",
       "      <td>2004-11-24</td>\n",
       "      <td>79</td>\n",
       "      <td>25.795918</td>\n",
       "      <td>NaN</td>\n",
       "      <td>Rajasthan</td>\n",
       "      <td>84</td>\n",
       "      <td>8.4</td>\n",
       "    </tr>\n",
       "    <tr>\n",
       "      <th>3</th>\n",
       "      <td>103</td>\n",
       "      <td>Shlok</td>\n",
       "      <td>NaN</td>\n",
       "      <td>1998-12-07</td>\n",
       "      <td>62</td>\n",
       "      <td>23.051755</td>\n",
       "      <td>NaN</td>\n",
       "      <td>Rajasthan</td>\n",
       "      <td>63</td>\n",
       "      <td>6.3</td>\n",
       "    </tr>\n",
       "    <tr>\n",
       "      <th>4</th>\n",
       "      <td>104</td>\n",
       "      <td>Anahita</td>\n",
       "      <td>NaN</td>\n",
       "      <td>1999-01-03</td>\n",
       "      <td>74</td>\n",
       "      <td>25.605536</td>\n",
       "      <td>DA</td>\n",
       "      <td>Uttar Pradesh</td>\n",
       "      <td>68</td>\n",
       "      <td>6.8</td>\n",
       "    </tr>\n",
       "  </tbody>\n",
       "</table>\n",
       "</div>"
      ],
      "text/plain": [
       "    id first_name last_name         dob  weight        bmi course  \\\n",
       "0  100    Samarth      Kari  1997-05-28      72  23.781213    NaN   \n",
       "1  101      Sumer       NaN  2000-06-03      62  22.230987     DA   \n",
       "2  102       Anay       NaN  2004-11-24      79  25.795918    NaN   \n",
       "3  103      Shlok       NaN  1998-12-07      62  23.051755    NaN   \n",
       "4  104    Anahita       NaN  1999-01-03      74  25.605536     DA   \n",
       "\n",
       "           state  marks  CGPA  \n",
       "0            NaN     69   6.9  \n",
       "1  Uttar Pradesh     82   8.2  \n",
       "2      Rajasthan     84   8.4  \n",
       "3      Rajasthan     63   6.3  \n",
       "4  Uttar Pradesh     68   6.8  "
      ]
     },
     "execution_count": 124,
     "metadata": {},
     "output_type": "execute_result"
    }
   ],
   "source": [
    "df.head()"
   ]
  },
  {
   "cell_type": "code",
   "execution_count": null,
   "id": "2c6db9bc-08bc-46a8-b485-c0ca9eb408de",
   "metadata": {},
   "outputs": [],
   "source": []
  }
 ],
 "metadata": {
  "kernelspec": {
   "display_name": "Python 3 (ipykernel)",
   "language": "python",
   "name": "python3"
  },
  "language_info": {
   "codemirror_mode": {
    "name": "ipython",
    "version": 3
   },
   "file_extension": ".py",
   "mimetype": "text/x-python",
   "name": "python",
   "nbconvert_exporter": "python",
   "pygments_lexer": "ipython3",
   "version": "3.11.7"
  }
 },
 "nbformat": 4,
 "nbformat_minor": 5
}
